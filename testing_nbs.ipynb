{
  "cells": [
    {
      "cell_type": "markdown",
      "metadata": {
        "id": "view-in-github",
        "colab_type": "text"
      },
      "source": [
        "<a href=\"https://colab.research.google.com/github/mgnarag/colored-binarization_lowres/blob/main/testing_nbs.ipynb\" target=\"_parent\"><img src=\"https://colab.research.google.com/assets/colab-badge.svg\" alt=\"Open In Colab\"/></a>"
      ]
    },
    {
      "cell_type": "code",
      "execution_count": null,
      "metadata": {
        "colab": {
          "base_uri": "https://localhost:8080/"
        },
        "id": "u4a6w1GsajIN",
        "outputId": "015051e9-bef2-4659-ba5d-04d8d445e467"
      },
      "outputs": [
        {
          "output_type": "stream",
          "name": "stdout",
          "text": [
            "Drive already mounted at /content/drive; to attempt to forcibly remount, call drive.mount(\"/content/drive\", force_remount=True).\n"
          ]
        }
      ],
      "source": [
        "from google.colab import drive\n",
        "drive.mount(\"/content/drive\")"
      ]
    },
    {
      "cell_type": "code",
      "execution_count": null,
      "metadata": {
        "id": "WKh0dJSzaj_X"
      },
      "outputs": [],
      "source": [
        "!ls drive/My\\ Drive\n",
        "file_path = \"/content/drive/My Drive/Architectural_designs/From Arki/\""
      ]
    },
    {
      "cell_type": "code",
      "execution_count": null,
      "metadata": {
        "id": "7KGh6L6qVZ8b"
      },
      "outputs": [],
      "source": [
        "import matplotlib.pyplot as plt\n",
        "import numpy as np\n",
        "import pandas as pd\n",
        "import tensorflow as tf\n",
        "\n",
        "\n",
        "from PIL import Image, ImageOps\n",
        "Image.MAX_IMAGE_PIXELS = None\n",
        "import os\n",
        "import numpy as np\n",
        "import matplotlib.pyplot as plt\n",
        "import numpy as np\n",
        "import tensorflow as tf\n",
        "import pandas as pd\n",
        "\n",
        "from tensorflow import keras\n",
        "\n",
        "import time\n",
        "import os\n",
        "import cv2"
      ]
    },
    {
      "cell_type": "code",
      "execution_count": null,
      "metadata": {
        "id": "4TkaTAC3zgr7"
      },
      "outputs": [],
      "source": [
        "def crop(im):\n",
        "    width, height = im.size\n",
        "    data = []\n",
        "    for j in range(0,int(height/n_size)):\n",
        "        for i in range(0,int(width/n_size)):\n",
        "            im1 = im.crop((0 + (n_size*i), 0 + (n_size*j), n_size + (n_size*i), n_size + (n_size*j)))\n",
        "            im1 = np.array(im1)\n",
        "            im1 = im1.astype(np.float32)\n",
        "            im1 = im1/255\n",
        "            data.append(im1)\n",
        "    return data\n"
      ]
    },
    {
      "cell_type": "markdown",
      "metadata": {
        "id": "sdJThYVg8IpL"
      },
      "source": []
    },
    {
      "cell_type": "code",
      "source": [
        "gt = Image.open(file_path+ '4 Testing/ground_truth_100dpi.png').convert('L')\n",
        "img_gt = cv2.imread(file_path+ '4 Testing/ground_truth_100dpi.png')\n",
        "gt = np.asarray(gt) > 128\n",
        "gt = ~gt\n",
        "\n",
        "filename = \"nbs_100dpi_wb.png\"\n",
        "directory = file_path + '4 Testing/' + filename\n",
        "#directory = 'test_output_v'+str(model)+'.png'\n",
        "image = Image.open(directory)\n",
        "rgb = image.convert(\"RGB\")\n",
        "r, g, b = rgb.split()\n",
        "w_dirty, h_dirty = r.size\n",
        "dirty = [r,g,b]\n",
        "\n",
        "\n",
        "METRIC = []\n",
        "channel = ['red','green', 'blue']\n",
        "for model in range(3,5):\n",
        "  for color in range(0,3):\n",
        "      print('Model = ', model, '', str(channel[color]))\n",
        "      from tensorflow import keras\n",
        "      autoencoder = keras.models.load_model(file_path + '1 Models/autoencoder_'+str(model)+ '_'+str(channel[color]))\n",
        "      if model == 1:\n",
        "          n_size = 32\n",
        "      if model == 2:\n",
        "          n_size = 32\n",
        "      if model == 3:\n",
        "          n_size = 64\n",
        "      if model == 4:\n",
        "          n_size = 64\n",
        "      if model == 5:\n",
        "          n_size = 128\n",
        "      if model == 6:\n",
        "          n_size = 128\n",
        "\n",
        "      xx = int(w_dirty/n_size)\n",
        "      final=[]\n",
        "\n",
        "      for portion in range(0,xx):\n",
        "          test = dirty[color]\n",
        "          im1 = test.crop((n_size*portion, 0, (n_size*portion) + n_size, h_dirty))\n",
        "          w1, h1 = im1.size\n",
        "          w = int(w1/n_size)\n",
        "          h = int(h1/n_size)\n",
        "\n",
        "          neverbeforeseen = np.array(crop(im1))\n",
        "          encoded_imgs = autoencoder.encoder(neverbeforeseen).numpy()\n",
        "          decoded_imgs = autoencoder.decoder(encoded_imgs).numpy()\n",
        "\n",
        "          col = np.vstack((decoded_imgs[0],decoded_imgs[1]))\n",
        "          for i in range(2,h):\n",
        "              col = np.vstack((col,decoded_imgs[i]))\n",
        "\n",
        "          #y = np.where(col > 0.5,1,0) #round the values\n",
        "          y = col\n",
        "          y = (y * 255).astype('uint8')\n",
        "          if portion == 0:\n",
        "              final = y\n",
        "          if portion > 0:\n",
        "              final = np.hstack((final,y))\n",
        "\n",
        "      final = np.squeeze(final)\n",
        "      reconstructed = Image.fromarray(final)\n",
        "      reconstructed.save(file_path + \"5 Tested/output v\" + str(model) + '_'+str(channel[color]) + '.png')\n",
        "\n",
        "\n",
        "  #COMBINING RGB ------------------------------------------------\n",
        "  #MASKING EACH RGB ------------------------------------------------\n",
        "  print('Model = ', model, '', str('RGB'))\n",
        "  rgbArray = np.zeros((h_dirty,w_dirty,3), 'uint8')\n",
        "  rgbArray[..., 0] = 1-np.asarray(Image.open(file_path + \"5 Tested/output v\" + str(model)  + '_'+str(channel[0]) +  '.png').convert('L'))\n",
        "  rgbArray[..., 1] = 1-np.asarray(Image.open(file_path + \"5 Tested/output v\" + str(model)  + '_'+str(channel[1]) +  '.png').convert('L'))\n",
        "  rgbArray[..., 2] = 1-np.asarray(Image.open(file_path + \"5 Tested/output v\" + str(model)  + '_'+str(channel[2]) +  '.png').convert('L'))\n",
        "\n",
        "  final_RGB = Image.fromarray(rgbArray)\n",
        "  final_RGB.save(file_path + \"5 Tested/output v\" + str(model) + '_RGB_colored.png')"
      ],
      "metadata": {
        "colab": {
          "base_uri": "https://localhost:8080/"
        },
        "id": "lVaBudLqydfr",
        "outputId": "e57786c0-8d35-4dcc-d2e1-9223ecd75a92"
      },
      "execution_count": null,
      "outputs": [
        {
          "output_type": "stream",
          "name": "stdout",
          "text": [
            "Model =  1  red\n",
            "Model =  1  green\n",
            "Model =  1  blue\n",
            "Model =  1  RGB\n",
            "Model =  2  red\n",
            "Model =  2  green\n",
            "Model =  2  blue\n",
            "Model =  2  RGB\n",
            "Model =  3  red\n",
            "Model =  3  green\n",
            "Model =  3  blue\n",
            "Model =  3  RGB\n",
            "Model =  4  red\n",
            "Model =  4  green\n",
            "Model =  4  blue\n",
            "Model =  4  RGB\n",
            "Model =  5  red\n",
            "Model =  5  green\n",
            "Model =  5  blue\n",
            "Model =  5  RGB\n",
            "Model =  6  red\n",
            "Model =  6  green\n",
            "Model =  6  blue\n",
            "Model =  6  RGB\n"
          ]
        }
      ]
    },
    {
      "cell_type": "code",
      "source": [],
      "metadata": {
        "id": "FeCFQs0yBCp1"
      },
      "execution_count": null,
      "outputs": []
    }
  ],
  "metadata": {
    "accelerator": "GPU",
    "colab": {
      "provenance": [],
      "include_colab_link": true
    },
    "kernelspec": {
      "display_name": "Python 3",
      "name": "python3"
    },
    "language_info": {
      "name": "python"
    }
  },
  "nbformat": 4,
  "nbformat_minor": 0
}